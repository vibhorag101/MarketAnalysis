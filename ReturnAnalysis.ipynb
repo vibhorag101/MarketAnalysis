{
 "cells": [
  {
   "cell_type": "code",
   "execution_count": null,
   "metadata": {},
   "outputs": [],
   "source": [
    "import pandas as pd\n",
    "import matplotlib.pyplot as plt\n",
    "import seaborn as sns\n",
    "from datetime import datetime\n",
    "import numpy as np\n",
    "import glob\n",
    "import numpy_financial as npf\n",
    "from scipy import optimize"
   ]
  },
  {
   "cell_type": "code",
   "execution_count": null,
   "metadata": {},
   "outputs": [],
   "source": [
    "# YY-MM-DD\n",
    "# CSV should have Date and Close columns\n",
    "start_date = '2005-05-01'\n",
    "# end_date = '2019-05-01'\n",
    "end_date = datetime.now().strftime('%Y-%m-%d')\n",
    "file_paths = glob.glob('RunTemp/*.csv')"
   ]
  },
  {
   "cell_type": "markdown",
   "metadata": {},
   "source": [
    "# Yearly Returns"
   ]
  },
  {
   "cell_type": "code",
   "execution_count": null,
   "metadata": {},
   "outputs": [],
   "source": [
    "\n",
    "def calculate_yearly_returns(file_path):\n",
    "    data = pd.read_csv(file_path)\n",
    "    # Convert the 'Date' column to datetime\n",
    "    try:\n",
    "        data['Date'] = pd.to_datetime(data['Date'],format='%d %b %Y')\n",
    "    except:\n",
    "        data['Date'] = pd.to_datetime(data['Date'],format='%d-%b-%y')\n",
    "\n",
    "    data = data.sort_values('Date', ascending=True)\n",
    "    data['Year'] = data['Date'].dt.year\n",
    "    # Take data only from Month and year of start_date\n",
    "    data = data[data['Date'] >= start_date]\n",
    "    yearly_data = data.groupby('Year')['Close'].agg(['first', 'last']).reset_index()\n",
    "    yearly_data['Yearly Return'] = ((yearly_data['last'] - yearly_data['first']) / yearly_data['first']) * 100\n",
    "    return yearly_data[['Year', 'Yearly Return']]\n",
    "\n",
    "\n",
    "returns_data = {}\n",
    "\n",
    "for file_path in file_paths:\n",
    "    index_name = file_path.split('/')[-1].split('.')[0].split('\\\\')[1]  # Extract index name from file name\n",
    "    yearly_returns = calculate_yearly_returns(file_path)\n",
    "    returns_data[index_name] = yearly_returns.set_index('Year')['Yearly Return']\n",
    "returns_df = pd.DataFrame(returns_data)"
   ]
  },
  {
   "cell_type": "code",
   "execution_count": null,
   "metadata": {},
   "outputs": [],
   "source": [
    "returns_df.plot.bar(figsize=(14, 7))\n",
    "plt.xlabel('Year', fontsize=12)\n",
    "plt.ylabel('Yearly Return (%)', fontsize=12)\n",
    "plt.title('Yearly Returns', fontsize=15)\n",
    "plt.xticks(rotation=45)\n",
    "plt.yticks(range(-80, 100, 5))\n",
    "plt.grid(True)\n",
    "plt.show()"
   ]
  },
  {
   "cell_type": "markdown",
   "metadata": {},
   "source": [
    "### Average Yearly Returns"
   ]
  },
  {
   "cell_type": "code",
   "execution_count": null,
   "metadata": {},
   "outputs": [],
   "source": [
    "# average_returns.plot.bar(figsize=(14, 7))\n",
    "# plt.ylabel('Return (%)', fontsize=12)\n",
    "# plt.title('Average Yearly Returns', fontsize=15)\n",
    "# plt.xticks(rotation=45)\n",
    "# plt.yticks(range(-10, 100, 5))\n",
    "# plt.grid(True)\n",
    "# plt.show()\n",
    "# print(average_returns.sort_values(ascending=False))"
   ]
  },
  {
   "cell_type": "markdown",
   "metadata": {},
   "source": [
    "### Yearly Returns Heatmap"
   ]
  },
  {
   "cell_type": "code",
   "execution_count": null,
   "metadata": {},
   "outputs": [],
   "source": [
    "ranked_returns = returns_df.rank(axis=1, ascending=False)\n",
    "ranked_returns = ranked_returns.T"
   ]
  },
  {
   "cell_type": "code",
   "execution_count": null,
   "metadata": {},
   "outputs": [],
   "source": [
    "plt.figure(figsize=(12, 8))\n",
    "sns.heatmap(ranked_returns, annot=True, cmap='viridis', cbar_kws={'label': 'Rank'})\n",
    "plt.title('Year-wise Rankings of Nifty Sector Indices Returns')\n",
    "plt.xlabel('Year')\n",
    "plt.ylabel('Index')\n",
    "plt.show()"
   ]
  },
  {
   "cell_type": "markdown",
   "metadata": {},
   "source": [
    "# CAGR Returns"
   ]
  },
  {
   "cell_type": "code",
   "execution_count": null,
   "metadata": {},
   "outputs": [],
   "source": [
    "def calculate_cagr_returns(file_path):\n",
    "    # Load the CSV file\n",
    "    data = pd.read_csv(file_path)\n",
    "    # Convert the 'Date' column to datetime\n",
    "    try:\n",
    "        data['Date'] = pd.to_datetime(data['Date'],format='%d %b %Y')\n",
    "    except:\n",
    "        data['Date'] = pd.to_datetime(data['Date'],format='%d-%b-%y')\n",
    "    \n",
    "    # Sort the data by date\n",
    "    data = data[data['Date'] >= start_date]\n",
    "    data = data[data['Date'] <= end_date]\n",
    "    \n",
    "    data = data.sort_values('Date', ascending=True)\n",
    "    start_price = data['Close'].iloc[0]\n",
    "    end_price = data['Close'].iloc[-1]\n",
    "    years = (data['Date'].iloc[-1] - data['Date'].iloc[0]).days/365\n",
    "    cagr = ((end_price/start_price)**(1/years))-1\n",
    "    cagr = cagr*100\n",
    "    return cagr\n",
    "\n",
    "returns_data = {}\n",
    "for file_path in file_paths:\n",
    "    index_name = file_path.split('/')[-1].split('.')[0].split('\\\\')[1]\n",
    "    returns_data[index_name] = calculate_cagr_returns(file_path)\n",
    "\n",
    "cagr_df = pd.DataFrame(returns_data.items(), columns=['Index', 'CAGR'])\n",
    "cagr_df = cagr_df.set_index('Index')"
   ]
  },
  {
   "cell_type": "code",
   "execution_count": null,
   "metadata": {},
   "outputs": [],
   "source": [
    "cagr_df.plot.bar(figsize=(14, 7))\n",
    "plt.xlabel('Fund', fontsize=12)\n",
    "plt.ylabel('CAGR(%)', fontsize=12)\n",
    "plt.title(f'CAGR from {start_date} till {end_date}', fontsize=15)\n",
    "plt.xticks(rotation=45)\n",
    "plt.yticks(range(-10, 100, 5))\n",
    "plt.grid(True)\n",
    "plt.show()\n",
    "\n",
    "print(cagr_df.sort_values('CAGR', ascending=False))"
   ]
  },
  {
   "cell_type": "markdown",
   "metadata": {},
   "source": [
    "## Lumpsum Absolute Returns"
   ]
  },
  {
   "cell_type": "code",
   "execution_count": null,
   "metadata": {},
   "outputs": [],
   "source": [
    "def calculate_absolute_returns(file_path):\n",
    "    # Load the CSV file\n",
    "    data = pd.read_csv(file_path)\n",
    "    # Convert the 'Date' column to datetime\n",
    "    try:\n",
    "        data['Date'] = pd.to_datetime(data['Date'],format='%d %b %Y')\n",
    "    except:\n",
    "        data['Date'] = pd.to_datetime(data['Date'],format='%d-%b-%y')\n",
    "    \n",
    "    # Sort the data by date\n",
    "    data = data[data['Date'] >= start_date]\n",
    "    data = data[data['Date'] <= end_date]\n",
    "    \n",
    "    data = data.sort_values('Date', ascending=True)\n",
    "    start_price = data['Close'].iloc[0]\n",
    "    end_price = data['Close'].iloc[-1]\n",
    "    absolute_returns = (end_price - start_price)/start_price*100\n",
    "    return absolute_returns\n",
    "\n",
    "returns_data = {}\n",
    "for file_path in file_paths:\n",
    "    index_name = file_path.split('/')[-1].split('.')[0].split('\\\\')[1]\n",
    "    returns_data[index_name] = calculate_absolute_returns(file_path)\n",
    "\n",
    "absolute_df = pd.DataFrame(returns_data.items(), columns=['Index', 'Absolute_Returns'])\n",
    "absolute_df = absolute_df.set_index('Index')"
   ]
  },
  {
   "cell_type": "code",
   "execution_count": null,
   "metadata": {},
   "outputs": [],
   "source": [
    "absolute_df.plot.bar(figsize=(14, 7))\n",
    "plt.xlabel('Fund', fontsize=12)\n",
    "plt.ylabel('Absolute Returns(%)', fontsize=12)\n",
    "plt.title(f'Absolute Returns from {start_date} till {end_date}', fontsize=15)\n",
    "plt.xticks(rotation=45)\n",
    "# plt.yticks(range(-50, 800, 50))\n",
    "plt.grid(True)\n",
    "plt.show()\n",
    "print(absolute_df.sort_values('Absolute_Returns', ascending=False))"
   ]
  },
  {
   "cell_type": "markdown",
   "metadata": {},
   "source": [
    "# SIP XIRR Returns"
   ]
  },
  {
   "cell_type": "code",
   "execution_count": null,
   "metadata": {},
   "outputs": [],
   "source": [
    "def xnpv(rate,cashflows):\n",
    "    chron_order = sorted(cashflows, key = lambda x: x[0])\n",
    "    t0 = chron_order[0][0]\n",
    "    return sum([cf/(1+rate)**((t-t0).days/365.0) for (t,cf) in chron_order])\n",
    "\n",
    "def xirr(cashflows,guess=0.1):\n",
    "    return optimize.newton(lambda r: xnpv(r,cashflows),guess)\n",
    "\n",
    "def calculate_sip_xirr(file_path, start_date=None, end_date=None):\n",
    "    # Load the CSV file\n",
    "    data = pd.read_csv(file_path)\n",
    "    \n",
    "    # Convert the 'Date' column to datetime\n",
    "    try:\n",
    "        data['Date'] = pd.to_datetime(data['Date'], format='%d %b %Y')\n",
    "    except:\n",
    "        data['Date'] = pd.to_datetime(data['Date'], format='%d-%b-%y')\n",
    "    \n",
    "    # Filter data based on start and end dates if provided\n",
    "    if start_date:\n",
    "        data = data[data['Date'] >= pd.to_datetime(start_date)]\n",
    "    if end_date:\n",
    "        data = data[data['Date'] <= pd.to_datetime(end_date)]\n",
    "    \n",
    "    # Group by year and month and take the last available data point for each month\n",
    "    data = data.groupby([data['Date'].dt.year, data['Date'].dt.month]).tail(1)\n",
    "    data = data.sort_values('Date', ascending=True)\n",
    "    \n",
    "    # Initialize lists to store cash flows and their corresponding dates\n",
    "    cash_flows = []\n",
    "    dates = []\n",
    "    \n",
    "    # Iterate over each row and record the SIP investments\n",
    "    for index, row in data.iterrows():\n",
    "        cash_flows.append(-1000)  # SIP investment is negative cash flow\n",
    "        dates.append(row['Date'])\n",
    "    \n",
    "    # Add the final value as a positive cash flow\n",
    "    total_units = sum(1000 / row['Close'] for index, row in data.iterrows())\n",
    "    final_value = total_units * data['Close'].iloc[-1]\n",
    "    cash_flows.append(final_value)\n",
    "    dates.append(data['Date'].iloc[-1])\n",
    "    \n",
    "    # Calculate XIRR\n",
    "    sip_xirr = xirr(list(zip(dates, cash_flows)))\n",
    "    \n",
    "    return sip_xirr\n",
    "\n",
    "returns_data = {}\n",
    "for file_path in file_paths:\n",
    "    index_name = file_path.split('/')[-1].split('.')[0].split('\\\\')[1]\n",
    "    returns_data[index_name] = calculate_sip_xirr(file_path)\n",
    "\n",
    "sip_XIRR = pd.DataFrame(returns_data.items(), columns=['Index', 'SIP_XIRR'])\n",
    "sip_XIRR = sip_XIRR.set_index('Index')"
   ]
  },
  {
   "cell_type": "code",
   "execution_count": null,
   "metadata": {},
   "outputs": [],
   "source": [
    "sip_XIRR.plot.bar(figsize=(14, 7))\n",
    "plt.xlabel('Fund', fontsize=12)\n",
    "plt.ylabel('SIP XIRR (%)', fontsize=12)\n",
    "plt.title(f'SIP SIRR from {start_date} till {end_date}', fontsize=15)\n",
    "plt.xticks(rotation=45)\n",
    "# plt.yticks(range(-50, 800, 50))\n",
    "plt.grid(True)\n",
    "plt.show()\n",
    "print(sip_XIRR.sort_values('SIP_XIRR', ascending=False))"
   ]
  },
  {
   "cell_type": "markdown",
   "metadata": {},
   "source": [
    "## SIP Absolute Returns"
   ]
  },
  {
   "cell_type": "code",
   "execution_count": null,
   "metadata": {},
   "outputs": [],
   "source": [
    "def calculate_sip_absolute_returns(file_path):\n",
    "    # Load the CSV file\n",
    "    data = pd.read_csv(file_path)\n",
    "    # Convert the 'Date' column to datetime\n",
    "    try:\n",
    "        data['Date'] = pd.to_datetime(data['Date'],format='%d %b %Y')\n",
    "    except:\n",
    "        data['Date'] = pd.to_datetime(data['Date'],format='%d-%b-%y')\n",
    "    \n",
    "    # Sort the data by date\n",
    "    data = data[data['Date'] >= start_date]\n",
    "    data = data[data['Date'] <= end_date]\n",
    "    data = data.groupby([data['Date'].dt.year, data['Date'].dt.month]).tail(1)\n",
    "    data = data.sort_values('Date', ascending=True)\n",
    "\n",
    "    # iterate over each row and calculate the SIP returns\n",
    "    total_investment = 0\n",
    "    total_units = 0\n",
    "    for index, row in data.iterrows():\n",
    "        close_price = row['Close']\n",
    "        total_investment += 1000\n",
    "        units_purchased = 1000/close_price\n",
    "        total_units += units_purchased\n",
    "    \n",
    "    final_value = total_units * data['Close'].iloc[-1]\n",
    "    sip_returns = (final_value - total_investment)/total_investment*100\n",
    "    return sip_returns\n",
    "\n",
    "returns_data = {}\n",
    "for file_path in file_paths:\n",
    "    index_name = file_path.split('/')[-1].split('.')[0].split('\\\\')[1]\n",
    "    returns_data[index_name] = calculate_sip_absolute_returns(file_path)\n",
    "\n",
    "sip_absolute_df = pd.DataFrame(returns_data.items(), columns=['Index', 'SIP_Absolute_Returns'])\n",
    "sip_absolute_df = sip_absolute_df.set_index('Index')"
   ]
  },
  {
   "cell_type": "code",
   "execution_count": null,
   "metadata": {},
   "outputs": [],
   "source": [
    "sip_absolute_df.plot.bar(figsize=(14, 7))\n",
    "plt.xlabel('Fund', fontsize=12)\n",
    "plt.ylabel('SIP Absolute Returns(%)', fontsize=12)\n",
    "plt.title(f'SIP Absolute Returns from {start_date} till {end_date}', fontsize=15)\n",
    "plt.xticks(rotation=45)\n",
    "# plt.yticks(range(-50, 800, 50))\n",
    "plt.grid(True)\n",
    "plt.show()\n",
    "print(sip_absolute_df.sort_values('SIP_Absolute_Returns', ascending=False))"
   ]
  }
 ],
 "metadata": {
  "kernelspec": {
   "display_name": "Python 3",
   "language": "python",
   "name": "python3"
  },
  "language_info": {
   "codemirror_mode": {
    "name": "ipython",
    "version": 3
   },
   "file_extension": ".py",
   "mimetype": "text/x-python",
   "name": "python",
   "nbconvert_exporter": "python",
   "pygments_lexer": "ipython3",
   "version": "3.12.4"
  }
 },
 "nbformat": 4,
 "nbformat_minor": 2
}
